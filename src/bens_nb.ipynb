{
 "cells": [
  {
   "cell_type": "code",
   "execution_count": null,
   "metadata": {
    "vscode": {
     "languageId": "plaintext"
    }
   },
   "outputs": [],
   "source": [
    "import madrigalWeb.madrigalWeb\n",
    "\n",
    "# Initialize MadrigalData object with the URL of the Madrigal site\n",
    "mad_web = madrigalWeb.madrigalWeb.MadrigalData('http://cedar.openmadrigal.org')\n",
    "\n",
    "# Define user information\n",
    "user_fullname = \"ljbh\"\n",
    "user_email = \"knjaldfsf@gasd.com\"\n",
    "user_affiliation = \"none\"\n",
    "\n",
    "# Set the date range and instrument parameters\n",
    "start_date = '2011-03-11'  # YYYY-MM-DD format\n",
    "end_date = '2011-03-12'\n",
    "inst = 8000  # Instrument code\n",
    "kindat = 3505  # Kind of data code\n",
    "\n",
    "# Get the experiments for the date range and instrument\n",
    "experiments = mad_web.getExperiments(inst, 2011, 3, 11, 0, 0, 0, 2011, 3, 12, 23, 59, 59)\n",
    "\n",
    "# Loop over the experiments and download each file\n",
    "for experiment in experiments:\n",
    "    # Get the list of files for the experiment\n",
    "    files = mad_web.getExperimentFiles(experiment.id)\n",
    "    \n",
    "    # Loop over files and download them\n",
    "    for file in files:\n",
    "        # Specify the download format (e.g., hdf5)\n",
    "        mad_web.downloadFile(\n",
    "            filename=file.name,\n",
    "            destination='/tmp',  # Directory to save files\n",
    "            user_fullname=user_fullname,\n",
    "            user_email=user_email,\n",
    "            user_affiliation=user_affiliation,\n",
    "            format='hdf5'  # Format: 'simple', 'hdf5', etc.\n",
    "        )\n",
    "        print(f\"Downloaded file: {file.name}\")\n"
   ]
  }
 ],
 "metadata": {
  "language_info": {
   "name": "python"
  }
 },
 "nbformat": 4,
 "nbformat_minor": 2
}
